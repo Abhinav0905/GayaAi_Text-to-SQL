{
 "cells": [
  {
   "cell_type": "code",
   "execution_count": 5,
   "id": "ded84291",
   "metadata": {},
   "outputs": [
    {
     "name": "stdout",
     "output_type": "stream",
     "text": [
      "Requirement already satisfied: mysql-connector-python in /Applications/Anaconda/anaconda3/lib/python3.12/site-packages (9.2.0)\n",
      "Note: you may need to restart the kernel to use updated packages.\n"
     ]
    }
   ],
   "source": [
    "pip install mysql-connector-python"
   ]
  },
  {
   "cell_type": "code",
   "execution_count": 6,
   "id": "386991b3",
   "metadata": {},
   "outputs": [],
   "source": [
    "import mysql.connector\n",
    "import json\n"
   ]
  },
  {
   "cell_type": "code",
   "execution_count": 7,
   "id": "43063121",
   "metadata": {},
   "outputs": [],
   "source": [
    "sample_json_data = [\n",
    "    {\n",
    "        \"ImageName\": \"Test-Set/RCNX0300.JPG\",\n",
    "        \"Environment\": \"Field_Nature_Outdoors\",\n",
    "        \"Terrain\": \"Grassland\",\n",
    "        \"Species\": \"Antelope\",\n",
    "        \"Other\": \"Animal_Impala_Mammal_Wildlife\"\n",
    "    },\n",
    "    {\n",
    "        \"ImageName\": \"Test-Set/RCNX0301.JPG\",\n",
    "        \"Environment\": \"Urban_Suburban\",\n",
    "        \"Terrain\": \"Concrete\",\n",
    "        \"Species\": \"Lion\",\n",
    "        \"Other\": \"Animal_Leopard_Mammal\"\n",
    "    },\n",
    "    {\n",
    "        \"ImageName\": \"Test-Set/RCNX0302.JPG\",\n",
    "        \"Environment\": \"Forest_Rural\",\n",
    "        \"Terrain\": \"Woodland\",\n",
    "        \"Species\": \"Elephant\",\n",
    "        \"Other\": \"Animal_Mammal_Large\"\n",
    "    }\n",
    "]\n"
   ]
  },
  {
   "cell_type": "code",
   "execution_count": 8,
   "id": "39f0734e",
   "metadata": {},
   "outputs": [
    {
     "name": "stdout",
     "output_type": "stream",
     "text": [
      "MySQL connection is closed\n"
     ]
    }
   ],
   "source": [
    "db_config = {\n",
    "    'user': 'root',\n",
    "    'password': 'password',\n",
    "    'host':  'localhost',\n",
    "    'port': 3306, \n",
    "    'database': 'Gaya.ai'  \n",
    "}\n",
    "\n",
    "# Connect to My SQL\n",
    "try: \n",
    "    connection = mysql.connector.connect(**db_config)\n",
    "    cursor = connection.cursor()\n",
    "except mysql.connector.Error as err:\n",
    "    print(f\"Error: {err}\")\n",
    "\n",
    "# Create table if doesnt exist\n",
    "try:\n",
    "    cursor.execute(\"CREATE TABLE IF NOT EXISTS ImageData (ImageName VARCHAR(255), Environment VARCHAR(255), Terrain VARCHAR(255), Species VARCHAR(255), Other VARCHAR(255))\")\n",
    "    connection.commit()\n",
    "except mysql.connector.Error as err:\n",
    "    print(f\"Error: {err}\")\n",
    "\n",
    "# Insert data into table\n",
    "for data in sample_json_data:\n",
    "    try:\n",
    "        cursor.execute(\"INSERT INTO ImageData (ImageName, Environment, Terrain, Species, Other) VALUES (%s, %s, %s, %s, %s)\", \n",
    "                      (data['ImageName'], data['Environment'], data['Terrain'], data['Species'], data['Other']))\n",
    "        connection.commit()\n",
    "    except mysql.connector.Error as err:\n",
    "        print(f\"Error: {err}\")\n",
    "\n",
    "# Close connection\n",
    "if connection.is_connected():\n",
    "    cursor.close()\n",
    "    connection.close()\n",
    "    print(\"MySQL connection is closed\")\n",
    "\n"
   ]
  }
 ],
 "metadata": {
  "kernelspec": {
   "display_name": "base",
   "language": "python",
   "name": "python3"
  },
  "language_info": {
   "codemirror_mode": {
    "name": "ipython",
    "version": 3
   },
   "file_extension": ".py",
   "mimetype": "text/x-python",
   "name": "python",
   "nbconvert_exporter": "python",
   "pygments_lexer": "ipython3",
   "version": "3.12.7"
  }
 },
 "nbformat": 4,
 "nbformat_minor": 5
}
